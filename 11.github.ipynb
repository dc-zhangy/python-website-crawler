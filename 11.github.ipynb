{
 "cells": [
  {
   "cell_type": "code",
   "execution_count": 5,
   "metadata": {},
   "outputs": [],
   "source": [
    "import requests\n",
    "from lxml import etree\n",
    "from bs4 import BeautifulSoup\n",
    "\n",
    "class Login(object):\n",
    "    def __init__(self):\n",
    "        self.headers = {\n",
    "            'Referer': 'https://github.com/',\n",
    "            'User-Agent': 'Mozilla/5.0 (Windows NT 10.0; Win64; x64) AppleWebKit/537.36 (KHTML, like Gecko) Chrome/71.0.3578.98 Safari/537.36',\n",
    "            'Host': 'github.com'\n",
    "        }\n",
    "        self.login_url = 'https://github.com/login'\n",
    "        self.post_url = 'https://github.com/session'\n",
    "        self.logined_url = 'https://github.com/settings/profile'\n",
    "        self.session = requests.Session()\n",
    "    \n",
    "    def token(self):\n",
    "        response = self.session.get(self.login_url, headers=self.headers)\n",
    "        soup = BeautifulSoup(response.text, 'lxml')\n",
    "        token=soup.find(attrs={'name': 'authenticity_token'})['value']\n",
    "        #selector = etree.HTML(response.text)\n",
    "        #token = selector.xpath('//div/input[2]/@value')\n",
    "        return token\n",
    "    \n",
    "    def login(self, email, password):\n",
    "        post_data = {\n",
    "            'commit': 'Sign in',\n",
    "            'utf8': '✓',\n",
    "            'authenticity_token': self.token(),\n",
    "            'login': email,\n",
    "            'password': password\n",
    "        }\n",
    "        response = self.session.post(self.post_url, data=post_data, headers=self.headers)\n",
    "        if response.status_code == 200:\n",
    "            return response.cookies\n",
    "            #self.dynamics(response.text)\n",
    "        \n",
    "       # response = self.session.get(self.logined_url, headers=self.headers)\n",
    "      #  if response.status_code == 200:\n",
    "          #  self.profile(response.text)\n",
    "    \n",
    "    def dynamics(self, html):\n",
    "        selector = etree.HTML(html)\n",
    "        dynamics = selector.xpath('//div[contains(@class, \"news\")]//div[contains(@class, \"alert\")]')\n",
    "        for item in dynamics:\n",
    "            dynamic = ' '.join(item.xpath('.//div[@class=\"title\"]//text()')).strip()\n",
    "            print(dynamic)\n",
    "    \n",
    "    def profile(self, html):\n",
    "        selector = etree.HTML(html)\n",
    "        name = selector.xpath('//input[@id=\"user_profile_name\"]/@value')[0]\n",
    "        email = selector.xpath('//select[@id=\"user_profile_email\"]/option[@value!=\"\"]/text()')\n",
    "        print(name, email)\n",
    "\n",
    "\n"
   ]
  },
  {
   "cell_type": "code",
   "execution_count": 7,
   "metadata": {},
   "outputs": [],
   "source": [
    "login = Login()\n",
    "a=login.login(email= 'dc-zhangy', password='961225zy')"
   ]
  },
  {
   "cell_type": "code",
   "execution_count": 19,
   "metadata": {},
   "outputs": [
    {
     "name": "stdout",
     "output_type": "stream",
     "text": [
      "('__Host-user_session_same_site', '8p3F-LvPxRWIlhhgmW8HIcfrjcrND4Z37DlJ9fAd645G5gDI')\n",
      "('_gh_sess', 'QVZXbitqWmJwOVVadVhXY0lSUWtjWmdydDR1N2g5aDlXaUxvbllST2Y0K05TVS9USVM0Y3g1RFpQVXh2NzlQSVJxWEg3UlF4NWRRdFVESUNMRHYybWR0RWpsWXVFNzZaaVc0UTY5b0EzOFVPeGI2cnNhL1J2QVJDTElIYWhxRmNjSzdhQUZVUGN1citKUmNuRkx3WjFOZXRlejNZUzlPM0IycWRVVTdLVWhjcUhRN3hXVXdvb0x0NFBMNE1pVFlmb1l4bHV6aVZKUGFTU1RWdVNMODFLdz09LS10VTlUMmlTeVlrLzZTdXRQT1YvVjdRPT0%3D--ddb03a9ba4001a308941b868fd09e3dbc01746c7')\n",
      "('has_recent_activity', '1')\n",
      "('user_session', '8p3F-LvPxRWIlhhgmW8HIcfrjcrND4Z37DlJ9fAd645G5gDI')\n"
     ]
    }
   ],
   "source": [
    "for i in a.items():\n",
    "    print(i)"
   ]
  },
  {
   "cell_type": "code",
   "execution_count": 21,
   "metadata": {},
   "outputs": [
    {
     "name": "stdout",
     "output_type": "stream",
     "text": [
      "[{'domain': '.github.com', 'expiry': 1573528882, 'httpOnly': False, 'name': '_gat', 'path': '/', 'secure': False, 'value': '1'}, {'domain': '.github.com', 'expiry': 1636686681.007176, 'httpOnly': False, 'name': '_octo', 'path': '/', 'secure': False, 'value': 'GH1.1.2100884300.1573528281'}, {'domain': '.github.com', 'expiry': 2204680281.007249, 'httpOnly': True, 'name': 'logged_in', 'path': '/', 'secure': True, 'value': 'no'}, {'domain': '.github.com', 'expiry': 1636600282, 'httpOnly': False, 'name': '_ga', 'path': '/', 'secure': False, 'value': 'GA1.2.1631441265.1573528283'}, {'domain': 'github.com', 'httpOnly': True, 'name': '_gh_sess', 'path': '/', 'secure': True, 'value': 'WHZocjExK0V2dUpBQ2dOaHlBVzhYMWRhVHRLSVJUUlBKZlRuY3FJaTd5MTFiTkFBaGU2cG1YeG5IL0hTYUJCQ1hVcllBWTRBekNLeWMrbkxUeFhYMzN6dzZIclJ3UHI3YnRsMkxXSUZDVFlGSEdOTm5iMUtCcVdCWWNmdVZ4WTdCMmtnMTlkbHVSMmlaWkl1anV3YUEwenA5U2JBa3pNSWxybUVGMWhTNXA2Q3l6Z2Q2VkE3MFhlQ1Rza1lpWmlPeFc3V3NPK2lPekJoR0sxVzFBN1pscUpqSmhPL2xQSmFGSStxY1dTNmZZN3g1dGZjOXFOWjFjbkIvVmlxNFpDUi0tY1lwcjB1TU4ybVhIQXFZRzJJOE5mdz09--9355e825ca72a0d781e30a0d9ccd2d94847025d3'}, {'domain': 'github.com', 'expiry': 1573531881.006933, 'httpOnly': False, 'name': 'has_recent_activity', 'path': '/', 'secure': False, 'value': '1'}]\n"
     ]
    },
    {
     "ename": "InvalidArgumentException",
     "evalue": "Message: invalid argument: missing 'value'\n  (Session info: chrome=78.0.3904.70)\n",
     "output_type": "error",
     "traceback": [
      "\u001b[1;31m---------------------------------------------------------------------------\u001b[0m",
      "\u001b[1;31mInvalidArgumentException\u001b[0m                  Traceback (most recent call last)",
      "\u001b[1;32m<ipython-input-21-1801c8682e41>\u001b[0m in \u001b[0;36m<module>\u001b[1;34m\u001b[0m\n\u001b[0;32m      5\u001b[0m \u001b[0mprint\u001b[0m\u001b[1;33m(\u001b[0m\u001b[0mbrowser\u001b[0m\u001b[1;33m.\u001b[0m\u001b[0mget_cookies\u001b[0m\u001b[1;33m(\u001b[0m\u001b[1;33m)\u001b[0m\u001b[1;33m)\u001b[0m\u001b[1;33m\u001b[0m\u001b[1;33m\u001b[0m\u001b[0m\n\u001b[0;32m      6\u001b[0m browser.add_cookie({'name': 'name','__Host-user_session_same_site': '8p3F-LvPxRWIlhhgmW8HIcfrjcrND4Z37DlJ9fAd645G5gDI', '_gh_sess': 'QVZXbitqWmJwOVVadVhXY0lSUWtjWmdydDR1N2g5aDlXaUxvbllST2Y0K05TVS9USVM0Y3g1RFpQVXh2NzlQSVJxWEg3UlF4NWRRdFVESUNMRHYybWR0RWpsWXVFNzZaaVc0UTY5b0EzOFVPeGI2cnNhL1J2QVJDTElIYWhxRmNjSzdhQUZVUGN1citKUmNuRkx3WjFOZXRlejNZUzlPM0IycWRVVTdLVWhjcUhRN3hXVXdvb0x0NFBMNE1pVFlmb1l4bHV6aVZKUGFTU1RWdVNMODFLdz09LS10VTlUMmlTeVlrLzZTdXRQT1YvVjdRPT0%3D--ddb03a9ba4001a308941b868fd09e3dbc01746c7', 'has_recent_activity': '1',\n\u001b[1;32m----> 7\u001b[1;33m                     'user_session':'8p3F-LvPxRWIlhhgmW8HIcfrjcrND4Z37DlJ9fAd645G5gDI'})\n\u001b[0m\u001b[0;32m      8\u001b[0m \u001b[0mprint\u001b[0m\u001b[1;33m(\u001b[0m\u001b[0mbrowser\u001b[0m\u001b[1;33m.\u001b[0m\u001b[0mget_cookies\u001b[0m\u001b[1;33m(\u001b[0m\u001b[1;33m)\u001b[0m\u001b[1;33m)\u001b[0m\u001b[1;33m\u001b[0m\u001b[1;33m\u001b[0m\u001b[0m\n\u001b[0;32m      9\u001b[0m \u001b[0mbrowser\u001b[0m\u001b[1;33m.\u001b[0m\u001b[0mdelete_all_cookies\u001b[0m\u001b[1;33m(\u001b[0m\u001b[1;33m)\u001b[0m\u001b[1;33m\u001b[0m\u001b[1;33m\u001b[0m\u001b[0m\n",
      "\u001b[1;32mD:\\Anaconda3\\lib\\site-packages\\selenium\\webdriver\\remote\\webdriver.py\u001b[0m in \u001b[0;36madd_cookie\u001b[1;34m(self, cookie_dict)\u001b[0m\n\u001b[0;32m    892\u001b[0m \u001b[1;33m\u001b[0m\u001b[0m\n\u001b[0;32m    893\u001b[0m         \"\"\"\n\u001b[1;32m--> 894\u001b[1;33m         \u001b[0mself\u001b[0m\u001b[1;33m.\u001b[0m\u001b[0mexecute\u001b[0m\u001b[1;33m(\u001b[0m\u001b[0mCommand\u001b[0m\u001b[1;33m.\u001b[0m\u001b[0mADD_COOKIE\u001b[0m\u001b[1;33m,\u001b[0m \u001b[1;33m{\u001b[0m\u001b[1;34m'cookie'\u001b[0m\u001b[1;33m:\u001b[0m \u001b[0mcookie_dict\u001b[0m\u001b[1;33m}\u001b[0m\u001b[1;33m)\u001b[0m\u001b[1;33m\u001b[0m\u001b[1;33m\u001b[0m\u001b[0m\n\u001b[0m\u001b[0;32m    895\u001b[0m \u001b[1;33m\u001b[0m\u001b[0m\n\u001b[0;32m    896\u001b[0m     \u001b[1;31m# Timeouts\u001b[0m\u001b[1;33m\u001b[0m\u001b[1;33m\u001b[0m\u001b[1;33m\u001b[0m\u001b[0m\n",
      "\u001b[1;32mD:\\Anaconda3\\lib\\site-packages\\selenium\\webdriver\\remote\\webdriver.py\u001b[0m in \u001b[0;36mexecute\u001b[1;34m(self, driver_command, params)\u001b[0m\n\u001b[0;32m    319\u001b[0m         \u001b[0mresponse\u001b[0m \u001b[1;33m=\u001b[0m \u001b[0mself\u001b[0m\u001b[1;33m.\u001b[0m\u001b[0mcommand_executor\u001b[0m\u001b[1;33m.\u001b[0m\u001b[0mexecute\u001b[0m\u001b[1;33m(\u001b[0m\u001b[0mdriver_command\u001b[0m\u001b[1;33m,\u001b[0m \u001b[0mparams\u001b[0m\u001b[1;33m)\u001b[0m\u001b[1;33m\u001b[0m\u001b[1;33m\u001b[0m\u001b[0m\n\u001b[0;32m    320\u001b[0m         \u001b[1;32mif\u001b[0m \u001b[0mresponse\u001b[0m\u001b[1;33m:\u001b[0m\u001b[1;33m\u001b[0m\u001b[1;33m\u001b[0m\u001b[0m\n\u001b[1;32m--> 321\u001b[1;33m             \u001b[0mself\u001b[0m\u001b[1;33m.\u001b[0m\u001b[0merror_handler\u001b[0m\u001b[1;33m.\u001b[0m\u001b[0mcheck_response\u001b[0m\u001b[1;33m(\u001b[0m\u001b[0mresponse\u001b[0m\u001b[1;33m)\u001b[0m\u001b[1;33m\u001b[0m\u001b[1;33m\u001b[0m\u001b[0m\n\u001b[0m\u001b[0;32m    322\u001b[0m             response['value'] = self._unwrap_value(\n\u001b[0;32m    323\u001b[0m                 response.get('value', None))\n",
      "\u001b[1;32mD:\\Anaconda3\\lib\\site-packages\\selenium\\webdriver\\remote\\errorhandler.py\u001b[0m in \u001b[0;36mcheck_response\u001b[1;34m(self, response)\u001b[0m\n\u001b[0;32m    240\u001b[0m                 \u001b[0malert_text\u001b[0m \u001b[1;33m=\u001b[0m \u001b[0mvalue\u001b[0m\u001b[1;33m[\u001b[0m\u001b[1;34m'alert'\u001b[0m\u001b[1;33m]\u001b[0m\u001b[1;33m.\u001b[0m\u001b[0mget\u001b[0m\u001b[1;33m(\u001b[0m\u001b[1;34m'text'\u001b[0m\u001b[1;33m)\u001b[0m\u001b[1;33m\u001b[0m\u001b[1;33m\u001b[0m\u001b[0m\n\u001b[0;32m    241\u001b[0m             \u001b[1;32mraise\u001b[0m \u001b[0mexception_class\u001b[0m\u001b[1;33m(\u001b[0m\u001b[0mmessage\u001b[0m\u001b[1;33m,\u001b[0m \u001b[0mscreen\u001b[0m\u001b[1;33m,\u001b[0m \u001b[0mstacktrace\u001b[0m\u001b[1;33m,\u001b[0m \u001b[0malert_text\u001b[0m\u001b[1;33m)\u001b[0m\u001b[1;33m\u001b[0m\u001b[1;33m\u001b[0m\u001b[0m\n\u001b[1;32m--> 242\u001b[1;33m         \u001b[1;32mraise\u001b[0m \u001b[0mexception_class\u001b[0m\u001b[1;33m(\u001b[0m\u001b[0mmessage\u001b[0m\u001b[1;33m,\u001b[0m \u001b[0mscreen\u001b[0m\u001b[1;33m,\u001b[0m \u001b[0mstacktrace\u001b[0m\u001b[1;33m)\u001b[0m\u001b[1;33m\u001b[0m\u001b[1;33m\u001b[0m\u001b[0m\n\u001b[0m\u001b[0;32m    243\u001b[0m \u001b[1;33m\u001b[0m\u001b[0m\n\u001b[0;32m    244\u001b[0m     \u001b[1;32mdef\u001b[0m \u001b[0m_value_or_default\u001b[0m\u001b[1;33m(\u001b[0m\u001b[0mself\u001b[0m\u001b[1;33m,\u001b[0m \u001b[0mobj\u001b[0m\u001b[1;33m,\u001b[0m \u001b[0mkey\u001b[0m\u001b[1;33m,\u001b[0m \u001b[0mdefault\u001b[0m\u001b[1;33m)\u001b[0m\u001b[1;33m:\u001b[0m\u001b[1;33m\u001b[0m\u001b[1;33m\u001b[0m\u001b[0m\n",
      "\u001b[1;31mInvalidArgumentException\u001b[0m: Message: invalid argument: missing 'value'\n  (Session info: chrome=78.0.3904.70)\n"
     ]
    }
   ],
   "source": [
    "from selenium import webdriver\n",
    "\n",
    "browser = webdriver.Chrome()\n",
    "browser.get('https://github.com/login')\n",
    "print(browser.get_cookies())\n",
    "browser.add_cookie({'name': 'name','__Host-user_session_same_site': '8p3F-LvPxRWIlhhgmW8HIcfrjcrND4Z37DlJ9fAd645G5gDI', '_gh_sess': 'QVZXbitqWmJwOVVadVhXY0lSUWtjWmdydDR1N2g5aDlXaUxvbllST2Y0K05TVS9USVM0Y3g1RFpQVXh2NzlQSVJxWEg3UlF4NWRRdFVESUNMRHYybWR0RWpsWXVFNzZaaVc0UTY5b0EzOFVPeGI2cnNhL1J2QVJDTElIYWhxRmNjSzdhQUZVUGN1citKUmNuRkx3WjFOZXRlejNZUzlPM0IycWRVVTdLVWhjcUhRN3hXVXdvb0x0NFBMNE1pVFlmb1l4bHV6aVZKUGFTU1RWdVNMODFLdz09LS10VTlUMmlTeVlrLzZTdXRQT1YvVjdRPT0%3D--ddb03a9ba4001a308941b868fd09e3dbc01746c7', 'has_recent_activity': '1',\n",
    "                    'user_session':'8p3F-LvPxRWIlhhgmW8HIcfrjcrND4Z37DlJ9fAd645G5gDI'})\n",
    "print(browser.get_cookies())\n",
    "browser.delete_all_cookies()\n",
    "print(browser.get_cookies())"
   ]
  },
  {
   "cell_type": "code",
   "execution_count": null,
   "metadata": {},
   "outputs": [],
   "source": []
  }
 ],
 "metadata": {
  "kernelspec": {
   "display_name": "Python 3",
   "language": "python",
   "name": "python3"
  },
  "language_info": {
   "codemirror_mode": {
    "name": "ipython",
    "version": 3
   },
   "file_extension": ".py",
   "mimetype": "text/x-python",
   "name": "python",
   "nbconvert_exporter": "python",
   "pygments_lexer": "ipython3",
   "version": "3.7.4"
  },
  "toc": {
   "base_numbering": 1,
   "nav_menu": {},
   "number_sections": true,
   "sideBar": true,
   "skip_h1_title": false,
   "title_cell": "Table of Contents",
   "title_sidebar": "Contents",
   "toc_cell": false,
   "toc_position": {},
   "toc_section_display": true,
   "toc_window_display": false
  },
  "varInspector": {
   "cols": {
    "lenName": 16,
    "lenType": 16,
    "lenVar": 40
   },
   "kernels_config": {
    "python": {
     "delete_cmd_postfix": "",
     "delete_cmd_prefix": "del ",
     "library": "var_list.py",
     "varRefreshCmd": "print(var_dic_list())"
    },
    "r": {
     "delete_cmd_postfix": ") ",
     "delete_cmd_prefix": "rm(",
     "library": "var_list.r",
     "varRefreshCmd": "cat(var_dic_list()) "
    }
   },
   "types_to_exclude": [
    "module",
    "function",
    "builtin_function_or_method",
    "instance",
    "_Feature"
   ],
   "window_display": false
  }
 },
 "nbformat": 4,
 "nbformat_minor": 2
}
