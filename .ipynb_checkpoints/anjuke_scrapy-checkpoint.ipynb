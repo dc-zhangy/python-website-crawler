{
 "cells": [
  {
   "cell_type": "code",
   "execution_count": 77,
   "metadata": {},
   "outputs": [],
   "source": [
    "import requests\n",
    "from bs4 import BeautifulSoup \n",
    "import pandas as pd\n",
    "import numpy as np"
   ]
  },
  {
   "cell_type": "code",
   "execution_count": 2,
   "metadata": {},
   "outputs": [],
   "source": [
    "headers = {\n",
    "    'User-Agent': 'Mozilla/5.0 (Macintosh; Intel Mac OS X 10_11_4) AppleWebKit/537.36 (KHTML, like Gecko) Chrome/52.0.2743.116 Safari/537.36'\n",
    "      }\n",
    "html=requests.get('https://shanghai.anjuke.com/sale/baoshan/p2/#filtersort',headers=headers)"
   ]
  },
  {
   "cell_type": "code",
   "execution_count": 5,
   "metadata": {},
   "outputs": [],
   "source": [
    "soup_ori = BeautifulSoup(html.text, 'lxml')"
   ]
  },
  {
   "cell_type": "code",
   "execution_count": 6,
   "metadata": {},
   "outputs": [],
   "source": [
    "a=soup_ori.find_all(class_='house-title')\n",
    "urls=[a[i].a['href'] for i in range(len(a))]\n",
    "\n",
    "html_detail=requests.get(urls[0],headers=headers)\n"
   ]
  },
  {
   "cell_type": "code",
   "execution_count": 7,
   "metadata": {},
   "outputs": [],
   "source": [
    "\n",
    "soup= BeautifulSoup(html_detail.text, 'lxml')"
   ]
  },
  {
   "cell_type": "code",
   "execution_count": 113,
   "metadata": {},
   "outputs": [],
   "source": [
    "names=['title', 'URL', 'unitprice', 'area', 'year', 'direction', 'decoration',\n",
    "       'category', 'bedroom', 'hall', 'lavatory', 'storey', 'totalstorey',\n",
    "       'elevator', 'property', 'community', 'far', 'parkinglot', 'greening',\n",
    "       'fee', 'admdist', 'secdist', 'address', 'subway', 'school',\n",
    "       'convenience', 'sellingpoint', 'opinion']\n"
   ]
  },
  {
   "cell_type": "code",
   "execution_count": 195,
   "metadata": {},
   "outputs": [],
   "source": [
    "dic={}\n",
    "#房源描述#\n",
    "title=soup.find(class_='long-ttle')#标题\n",
    "dic['title']=title.text.strip() if title else None\n",
    "\n",
    "dic['URL']=html_detail.url if html_detail.url else None #url\n",
    "\n",
    "sellingpoint=soup.find(class_='houseInfo-item-desc js-house-explain')#核心卖点\n",
    "dic['sellingpoint']=sellingpoint.text.strip() if sellingpoint else None\n",
    "\n",
    "opinion=soup.find(class_='info-character good-character')#专家建议\n",
    "dic['opinion']=opinion.text.strip() if opinion else None\n",
    "\n",
    "css='#content > div.wrapper > div.wrapper-lf > div.houseInfoBox > div > div.houseInfo-wrap > ul > li:nth-child(3) > div.houseInfo-content'\n",
    "unitprice=re.findall('(\\d+\\.?\\d+)',soup.select(css)[0].text)[0] if soup.select(css)!=[] else None\n",
    "dic['unitprice']=float(unitprice) #单位价格\n",
    "\n",
    "#建筑因素#\n",
    "css='#content > div.wrapper > div.wrapper-lf > div.houseInfoBox > div > div.houseInfo-wrap > ul > li:nth-child(5) > div.houseInfo-content'\n",
    "area=re.findall('(\\d+\\.?\\d+)',soup.select(css)[0].text)[0] if soup.select(css)!=[] else None\n",
    "dic['area']=float(area) #面积\n",
    "\n",
    "css='#content > div.wrapper > div.wrapper-lf > div.houseInfoBox > div > div.houseInfo-wrap > ul > li:nth-child(7) > div.houseInfo-content'\n",
    "year=re.findall('(\\d+)',soup.select(css)[0].text)[0] if soup.select(css)!=[] else None\n",
    "dic['year']=2020-int(year)#房龄"
   ]
  },
  {
   "cell_type": "code",
   "execution_count": 196,
   "metadata": {},
   "outputs": [],
   "source": []
  },
  {
   "cell_type": "code",
   "execution_count": null,
   "metadata": {},
   "outputs": [],
   "source": []
  }
 ],
 "metadata": {
  "kernelspec": {
   "display_name": "Python 3",
   "language": "python",
   "name": "python3"
  },
  "language_info": {
   "codemirror_mode": {
    "name": "ipython",
    "version": 3
   },
   "file_extension": ".py",
   "mimetype": "text/x-python",
   "name": "python",
   "nbconvert_exporter": "python",
   "pygments_lexer": "ipython3",
   "version": "3.7.4"
  },
  "toc": {
   "base_numbering": 1,
   "nav_menu": {},
   "number_sections": true,
   "sideBar": true,
   "skip_h1_title": false,
   "title_cell": "Table of Contents",
   "title_sidebar": "Contents",
   "toc_cell": false,
   "toc_position": {},
   "toc_section_display": true,
   "toc_window_display": false
  },
  "varInspector": {
   "cols": {
    "lenName": 16,
    "lenType": 16,
    "lenVar": 40
   },
   "kernels_config": {
    "python": {
     "delete_cmd_postfix": "",
     "delete_cmd_prefix": "del ",
     "library": "var_list.py",
     "varRefreshCmd": "print(var_dic_list())"
    },
    "r": {
     "delete_cmd_postfix": ") ",
     "delete_cmd_prefix": "rm(",
     "library": "var_list.r",
     "varRefreshCmd": "cat(var_dic_list()) "
    }
   },
   "types_to_exclude": [
    "module",
    "function",
    "builtin_function_or_method",
    "instance",
    "_Feature"
   ],
   "window_display": false
  }
 },
 "nbformat": 4,
 "nbformat_minor": 2
}
